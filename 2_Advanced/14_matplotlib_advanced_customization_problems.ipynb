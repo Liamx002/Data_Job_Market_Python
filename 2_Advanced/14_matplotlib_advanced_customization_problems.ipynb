{
 "cells": [
  {
   "cell_type": "code",
   "execution_count": 1,
   "metadata": {},
   "outputs": [
    {
     "name": "stderr",
     "output_type": "stream",
     "text": [
      "c:\\Users\\Liam McCann\\Anaconda3\\envs\\python_course\\Lib\\site-packages\\tqdm\\auto.py:21: TqdmWarning: IProgress not found. Please update jupyter and ipywidgets. See https://ipywidgets.readthedocs.io/en/stable/user_install.html\n",
      "  from .autonotebook import tqdm as notebook_tqdm\n"
     ]
    }
   ],
   "source": [
    "# importing data\n",
    "import ast\n",
    "import pandas as pd\n",
    "from datasets import load_dataset\n",
    "import matplotlib.pyplot as plt \n",
    "\n",
    "# importing dataset\n",
    "dataset = load_dataset(\"lukebarousse/data_jobs\")\n",
    "df = dataset[\"train\"].to_pandas()\n",
    "\n",
    "df[\"job_posted_date\"] = pd.to_datetime(df.job_posted_date)\n",
    "df[\"job_skills\"] = df[\"job_skills\"].apply(lambda x: ast.literal_eval(x) if pd.notna(x) else x)"
   ]
  },
  {
   "cell_type": "code",
   "execution_count": 39,
   "metadata": {},
   "outputs": [],
   "source": [
    "from adjustText import adjust_text\n",
    "\n"
   ]
  },
  {
   "cell_type": "code",
   "execution_count": 40,
   "metadata": {},
   "outputs": [],
   "source": [
    "# dfc = df[df[\"job_title_short\"] == \"Cloud Engineer\"]\n",
    "# skill_no = 10\n",
    "# dfce = dfc.explode(\"job_skills\")\n",
    "# dfce = dfce.groupby(\"job_skills\").agg(skill_count = (\"job_skills\",\"size\"), median_salary = (\"salary_year_avg\",\"median\")).sort_values(by=\"skill_count\", ascending=False).head(skill_no)\n",
    "# dfce.plot(kind=\"scatter\", x=\"skill_count\", y=\"median_salary\")\n",
    "# texts = []\n",
    "# for i, skills in enumerate(dfce.index):\n",
    "#     texts.append(plt.text(dfce[\"skill_count\"].iloc[i], dfce[\"median_salary\"].iloc[i], skills))\n",
    "\n",
    "# adjust_text(texts, arrowprops=dict(arrowstyle=\"->\", color=\"b\", lw=1))\n",
    "\n",
    "# ax = plt.gca()\n",
    "# ax.yaxis.set_major_formatter(plt.FuncFormatter(lambda y, pos: f\"${int(y/1000)}K\"))\n",
    "# ax.xaxis.set_major_formatter(plt.FuncFormatter(lambda x, _: f\"{int(x):,}\"))\n",
    "# plt.ylabel(\"Median Salary\")\n",
    "# plt.xlabel(\"Skill Count\")\n",
    "# plt.title(\"Median Salary V. Skill Count\")\n",
    "\n",
    "# plt.tight_layout()\n",
    "# plt.show()"
   ]
  },
  {
   "cell_type": "code",
   "execution_count": 49,
   "metadata": {},
   "outputs": [
    {
     "data": {
      "text/plain": [
       "<Axes: xlabel='job_skills'>"
      ]
     },
     "execution_count": 49,
     "metadata": {},
     "output_type": "execute_result"
    },
    {
     "data": {
      "image/png": "[encoded data removed]",
      "text/plain": [
       "<Figure size 640x480 with 1 Axes>"
      ]
     },
     "metadata": {},
     "output_type": "display_data"
    }
   ],
   "source": [
    "dfc = df[df[\"job_title_short\"] == \"Cloud Engineer\"]\n",
    "dfce = dfc.explode(\"job_skills\")\n",
    "dfce = dfce.groupby(\"job_skills\")[\"job_skills\"].size().sort_values(ascending=False).head(5)\n",
    "dfce.plot(kind=\"bar\", color = ['blue', 'orange', 'green', 'red', 'purple']\n",
    ")"
   ]
  }
 ],
 "metadata": {
  "kernelspec": {
   "display_name": "python_course",
   "language": "python",
   "name": "python3"
  },
  "language_info": {
   "codemirror_mode": {
    "name": "ipython",
    "version": 3
   },
   "file_extension": ".py",
   "mimetype": "text/x-python",
   "name": "python",
   "nbconvert_exporter": "python",
   "pygments_lexer": "ipython3",
   "version": "3.11.10"
  }
 },
 "nbformat": 4,
 "nbformat_minor": 2
}
